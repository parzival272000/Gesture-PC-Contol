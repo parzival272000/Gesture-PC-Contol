{
 "cells": [
  {
   "cell_type": "code",
   "execution_count": null,
   "metadata": {},
   "outputs": [],
   "source": []
  },
  {
   "cell_type": "code",
   "execution_count": 9,
   "metadata": {},
   "outputs": [],
   "source": [
    "import cv2\n",
    "import pyautogui\n",
    "import pydirectinput\n",
    "from time import time\n",
    "from math import hypot\n",
    "import mediapipe as mp\n",
    "import matplotlib.pyplot as plt\n",
    "\n",
    "pydirectinput.PAUSE = 0"
   ]
  },
  {
   "cell_type": "code",
   "execution_count": 10,
   "metadata": {},
   "outputs": [],
   "source": [
    "mp_pose = mp.solutions.pose\n",
    " \n",
    "pose_image = mp_pose.Pose(static_image_mode=True, min_detection_confidence=0.5, model_complexity=1)\n",
    " \n",
    "pose_video = mp_pose.Pose(static_image_mode=False, model_complexity=1, min_detection_confidence=0.7,\n",
    "                          min_tracking_confidence=0.7)\n",
    "\n",
    "mp_drawing = mp.solutions.drawing_utils "
   ]
  },
  {
   "cell_type": "code",
   "execution_count": 11,
   "metadata": {},
   "outputs": [],
   "source": [
    "def put_fps(image, time1):\n",
    "    time2 = time()\n",
    "    if (time2 - time1) > 0:\n",
    "        frames_per_second = 1.0 / (time2 - time1)\n",
    "        cv2.putText(image, 'FPS: {}'.format(int(frames_per_second)), (10, 30),cv2.FONT_HERSHEY_PLAIN, 2, (0, 255, 0), 3)\n",
    "    return time2\n",
    "    "
   ]
  },
  {
   "cell_type": "code",
   "execution_count": 12,
   "metadata": {},
   "outputs": [],
   "source": [
    "def detect_pose(image, draw=False):\n",
    "    image = cv2.cvtColor(image, cv2.COLOR_BGR2RGB)\n",
    "    results = pose_video.process(image)\n",
    "    image = cv2.cvtColor(image, cv2.COLOR_RGB2BGR)\n",
    "\n",
    "    if draw:\n",
    "        mp_drawing.draw_landmarks(image=image, landmark_list=results.pose_landmarks,\n",
    "                                  connections=mp_pose.POSE_CONNECTIONS,\n",
    "                                  landmark_drawing_spec=mp_drawing.DrawingSpec(color=(255,255,255),\n",
    "                                                                               thickness=3, circle_radius=3),\n",
    "                                  connection_drawing_spec=mp_drawing.DrawingSpec(color=(49,125,237),\n",
    "                                                                               thickness=2, circle_radius=2))\n",
    "    return image, results"
   ]
  },
  {
   "cell_type": "code",
   "execution_count": 13,
   "metadata": {},
   "outputs": [],
   "source": [
    "def control_game(image, landmarks):\n",
    "    height, width, _ = image.shape\n",
    "\n",
    "    left_wrist = int(landmarks[mp_pose.PoseLandmark.LEFT_WRIST].y * height)\n",
    "    right_wrist = int(landmarks[mp_pose.PoseLandmark.RIGHT_WRIST].y * height)\n",
    "    nose_pose = int(landmarks[mp_pose.PoseLandmark.NOSE].y * height)\n",
    "\n",
    "    JUMP_THRESH = 130\n",
    "    IDLE_THRESH = 290\n",
    "\n",
    "    control = 'idle'\n",
    "    if nose_pose < JUMP_THRESH and (left_wrist < IDLE_THRESH or right_wrist < IDLE_THRESH):\n",
    "        control = 'x'\n",
    "    elif right_wrist < IDLE_THRESH and left_wrist > right_wrist:\n",
    "        control = 'a'\n",
    "    elif left_wrist < IDLE_THRESH and left_wrist < right_wrist:\n",
    "        control = 's'\n",
    "    elif nose_pose < JUMP_THRESH:\n",
    "        control = 'up'\n",
    "    elif nose_pose > IDLE_THRESH:\n",
    "        control = 'down'\n",
    "\n",
    "    cv2.line(image, (0, JUMP_THRESH), (width - 1, JUMP_THRESH), (255, 255, 255), 2)\n",
    "    cv2.line(image, (0, IDLE_THRESH), (width - 1, IDLE_THRESH), (255, 255, 255), 2)\n",
    "    cv2.putText(image, 'ACTION: {}'.format(control), (400, 30),cv2.FONT_HERSHEY_PLAIN, 2, (255, 0, 0), 3)\n",
    "    return image, control"
   ]
  },
  {
   "cell_type": "code",
   "execution_count": 14,
   "metadata": {},
   "outputs": [],
   "source": [
    "def press(key):\n",
    "    pyautogui.keyDown(key)\n",
    "    pyautogui.sleep(0.01)\n",
    "    pyautogui.keyUp(key)"
   ]
  },
  {
   "cell_type": "code",
   "execution_count": 15,
   "metadata": {},
   "outputs": [],
   "source": [
    "def press_key(control, pause):\n",
    "    PAUSE_DURATION = 2\n",
    "    if control == 's' and pause <= 0:\n",
    "        press('s')\n",
    "        pause = PAUSE_DURATION\n",
    "    elif control == 'a' and pause <= 0:\n",
    "        press('a')\n",
    "        pause = PAUSE_DURATION\n",
    "    elif control == 'x' and pause <= 0:\n",
    "        press('x')\n",
    "        pause = PAUSE_DURATION\n",
    "    elif control == 'up' and pause <= 0:\n",
    "        press('up')\n",
    "        pause = PAUSE_DURATION\n",
    "    elif control == 'down' and pause <= 0:\n",
    "        press('down')\n",
    "        pause = PAUSE_DURATION\n",
    "    return pause"
   ]
  },
  {
   "cell_type": "code",
   "execution_count": 16,
   "metadata": {},
   "outputs": [],
   "source": [
    "cap = cv2.VideoCapture(0)\n",
    "\n",
    "cv2.namedWindow('Play Active', cv2.WINDOW_NORMAL)\n",
    "\n",
    "time1 = time()\n",
    "pause = 0\n",
    "while cap.isOpened():\n",
    "    \n",
    "    ok, frame = cap.read()\n",
    "    \n",
    "    if not ok:\n",
    "        continue\n",
    "    \n",
    "    frame = cv2.flip(frame, 1)\n",
    "    # control = 's'\n",
    "    \n",
    "    # frame_height, frame_width, _ = frame.shape\n",
    "    frame, results = detect_pose(frame, True)\n",
    "\n",
    "    try:\n",
    "        landmarks = results.pose_landmarks.landmark\n",
    "        frame, control = control_game(frame, landmarks)\n",
    "        pause = press_key(control, pause)\n",
    "    except:\n",
    "        pass\n",
    "    \n",
    "    time1 = put_fps(frame, time1)\n",
    "\n",
    "    cv2.imshow('Play Active', frame)\n",
    "\n",
    "    pause -= 1\n",
    "    k = cv2.waitKey(15) & 0xFF\n",
    "    if(k == 27):\n",
    "        break\n",
    "       \n",
    "cap.release()\n",
    "cv2.destroyAllWindows() "
   ]
  },
  {
   "cell_type": "code",
   "execution_count": null,
   "metadata": {},
   "outputs": [],
   "source": []
  }
 ],
 "metadata": {
  "interpreter": {
   "hash": "0c706a95f4565a7b1f8c10984b181ebeaaa9f515e166c7ff97dc859e70829209"
  },
  "kernelspec": {
   "display_name": "Python 3.8.8 64-bit ('base': conda)",
   "name": "python3"
  },
  "language_info": {
   "codemirror_mode": {
    "name": "ipython",
    "version": 3
   },
   "file_extension": ".py",
   "mimetype": "text/x-python",
   "name": "python",
   "nbconvert_exporter": "python",
   "pygments_lexer": "ipython3",
   "version": "3.8.8"
  }
 },
 "nbformat": 4,
 "nbformat_minor": 2
}
